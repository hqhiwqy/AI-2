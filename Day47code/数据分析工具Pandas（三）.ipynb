{
 "cells": [
  {
   "cell_type": "markdown",
   "metadata": {},
   "source": [
    "### 综合案例——山西高考分数线统计分析"
   ]
  },
  {
   "cell_type": "markdown",
   "metadata": {},
   "source": [
    "#### 明确目标\n",
    "\n",
    "* 一本文理科与二本文理科最高的分数线是多少？最低的分数线是多少？相差多少分？\n",
    "\n",
    "* 今年与去年相比，一本文理科与二本文理科变化了多少分？\n",
    "\n",
    "* 求 2006——2020 年近 15 年每科分数线的平均值。"
   ]
  },
  {
   "cell_type": "markdown",
   "metadata": {},
   "source": [
    "#### 数据采集\n",
    "* 2006-2018年高考录取分数线汇总（全国31省市完整版）\n",
    "http://gaokao.xdf.cn/201805/10784342.html\n",
    "\n",
    "* 2006-2020山西高考录取分数线\n",
    "http://gaokao.xdf.cn/201805/10784243.html"
   ]
  },
  {
   "cell_type": "code",
   "execution_count": null,
   "metadata": {},
   "outputs": [],
   "source": []
  }
 ],
 "metadata": {
  "kernelspec": {
   "display_name": "Python 3",
   "language": "python",
   "name": "python3"
  },
  "language_info": {
   "codemirror_mode": {
    "name": "ipython",
    "version": 3
   },
   "file_extension": ".py",
   "mimetype": "text/x-python",
   "name": "python",
   "nbconvert_exporter": "python",
   "pygments_lexer": "ipython3",
   "version": "3.6.10"
  }
 },
 "nbformat": 4,
 "nbformat_minor": 4
}
