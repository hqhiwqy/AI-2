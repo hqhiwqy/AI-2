{
 "cells": [
  {
   "cell_type": "code",
   "execution_count": 4,
   "metadata": {},
   "outputs": [],
   "source": [
    "import pandas as pd"
   ]
  },
  {
   "cell_type": "code",
   "execution_count": 5,
   "metadata": {},
   "outputs": [
    {
     "data": {
      "text/html": [
       "<div>\n",
       "<style scoped>\n",
       "    .dataframe tbody tr th:only-of-type {\n",
       "        vertical-align: middle;\n",
       "    }\n",
       "\n",
       "    .dataframe tbody tr th {\n",
       "        vertical-align: top;\n",
       "    }\n",
       "\n",
       "    .dataframe thead th {\n",
       "        text-align: right;\n",
       "    }\n",
       "</style>\n",
       "<table border=\"1\" class=\"dataframe\">\n",
       "  <thead>\n",
       "    <tr style=\"text-align: right;\">\n",
       "      <th></th>\n",
       "      <th>年份</th>\n",
       "      <th>一本文科</th>\n",
       "      <th>一本理科</th>\n",
       "      <th>二本文科</th>\n",
       "      <th>二本理科</th>\n",
       "    </tr>\n",
       "  </thead>\n",
       "  <tbody>\n",
       "    <tr>\n",
       "      <th>0</th>\n",
       "      <td>2020</td>\n",
       "      <td>542</td>\n",
       "      <td>537</td>\n",
       "      <td>469</td>\n",
       "      <td>449</td>\n",
       "    </tr>\n",
       "    <tr>\n",
       "      <th>1</th>\n",
       "      <td>2019</td>\n",
       "      <td>542</td>\n",
       "      <td>507</td>\n",
       "      <td>481</td>\n",
       "      <td>432</td>\n",
       "    </tr>\n",
       "    <tr>\n",
       "      <th>2</th>\n",
       "      <td>2018</td>\n",
       "      <td>546</td>\n",
       "      <td>516</td>\n",
       "      <td>476</td>\n",
       "      <td>432</td>\n",
       "    </tr>\n",
       "    <tr>\n",
       "      <th>3</th>\n",
       "      <td>2017</td>\n",
       "      <td>518</td>\n",
       "      <td>481</td>\n",
       "      <td>452</td>\n",
       "      <td>400</td>\n",
       "    </tr>\n",
       "    <tr>\n",
       "      <th>4</th>\n",
       "      <td>2016</td>\n",
       "      <td>518</td>\n",
       "      <td>519</td>\n",
       "      <td>460</td>\n",
       "      <td>438</td>\n",
       "    </tr>\n",
       "    <tr>\n",
       "      <th>5</th>\n",
       "      <td>2015</td>\n",
       "      <td>513</td>\n",
       "      <td>515</td>\n",
       "      <td>462</td>\n",
       "      <td>442</td>\n",
       "    </tr>\n",
       "    <tr>\n",
       "      <th>6</th>\n",
       "      <td>2014</td>\n",
       "      <td>526</td>\n",
       "      <td>534</td>\n",
       "      <td>478</td>\n",
       "      <td>462</td>\n",
       "    </tr>\n",
       "    <tr>\n",
       "      <th>7</th>\n",
       "      <td>2013</td>\n",
       "      <td>507</td>\n",
       "      <td>493</td>\n",
       "      <td>459</td>\n",
       "      <td>440</td>\n",
       "    </tr>\n",
       "    <tr>\n",
       "      <th>8</th>\n",
       "      <td>2012</td>\n",
       "      <td>539</td>\n",
       "      <td>530</td>\n",
       "      <td>492</td>\n",
       "      <td>476</td>\n",
       "    </tr>\n",
       "    <tr>\n",
       "      <th>9</th>\n",
       "      <td>2011</td>\n",
       "      <td>543</td>\n",
       "      <td>570</td>\n",
       "      <td>496</td>\n",
       "      <td>520</td>\n",
       "    </tr>\n",
       "    <tr>\n",
       "      <th>10</th>\n",
       "      <td>2010</td>\n",
       "      <td>533</td>\n",
       "      <td>536</td>\n",
       "      <td>492</td>\n",
       "      <td>491</td>\n",
       "    </tr>\n",
       "    <tr>\n",
       "      <th>11</th>\n",
       "      <td>2009</td>\n",
       "      <td>548</td>\n",
       "      <td>547</td>\n",
       "      <td>507</td>\n",
       "      <td>505</td>\n",
       "    </tr>\n",
       "    <tr>\n",
       "      <th>12</th>\n",
       "      <td>2008</td>\n",
       "      <td>545</td>\n",
       "      <td>546</td>\n",
       "      <td>510</td>\n",
       "      <td>511</td>\n",
       "    </tr>\n",
       "    <tr>\n",
       "      <th>13</th>\n",
       "      <td>2007</td>\n",
       "      <td>580</td>\n",
       "      <td>572</td>\n",
       "      <td>553</td>\n",
       "      <td>439</td>\n",
       "    </tr>\n",
       "    <tr>\n",
       "      <th>14</th>\n",
       "      <td>2006</td>\n",
       "      <td>561</td>\n",
       "      <td>552</td>\n",
       "      <td>528</td>\n",
       "      <td>515</td>\n",
       "    </tr>\n",
       "  </tbody>\n",
       "</table>\n",
       "</div>"
      ],
      "text/plain": [
       "      年份  一本文科  一本理科  二本文科  二本理科\n",
       "0   2020   542   537   469   449\n",
       "1   2019   542   507   481   432\n",
       "2   2018   546   516   476   432\n",
       "3   2017   518   481   452   400\n",
       "4   2016   518   519   460   438\n",
       "5   2015   513   515   462   442\n",
       "6   2014   526   534   478   462\n",
       "7   2013   507   493   459   440\n",
       "8   2012   539   530   492   476\n",
       "9   2011   543   570   496   520\n",
       "10  2010   533   536   492   491\n",
       "11  2009   548   547   507   505\n",
       "12  2008   545   546   510   511\n",
       "13  2007   580   572   553   439\n",
       "14  2006   561   552   528   515"
      ]
     },
     "execution_count": 5,
     "metadata": {},
     "output_type": "execute_result"
    }
   ],
   "source": [
    "gradeline = pd.read_excel('D:/AI/AI-/Day47code/test.xls')\n",
    "gradeline"
   ]
  },
  {
   "cell_type": "markdown",
   "metadata": {},
   "source": [
    "# 1.一本文理科与二本文理科最高的分数线是多少？最低的分数线是多少？相差多少分？"
   ]
  },
  {
   "cell_type": "code",
   "execution_count": 38,
   "metadata": {},
   "outputs": [
    {
     "data": {
      "text/plain": [
       "0     542\n",
       "1     542\n",
       "2     546\n",
       "3     518\n",
       "4     518\n",
       "5     513\n",
       "6     526\n",
       "7     507\n",
       "8     539\n",
       "9     543\n",
       "10    533\n",
       "11    548\n",
       "12    545\n",
       "13    580\n",
       "14    561\n",
       "Name: 一本文科, dtype: int64"
      ]
     },
     "execution_count": 38,
     "metadata": {},
     "output_type": "execute_result"
    }
   ],
   "source": [
    "First_tier_universities_Arts = gradeline['一本文科']\n",
    "First_tier_universities_Arts"
   ]
  },
  {
   "cell_type": "code",
   "execution_count": 39,
   "metadata": {},
   "outputs": [
    {
     "data": {
      "text/plain": [
       "580"
      ]
     },
     "execution_count": 39,
     "metadata": {},
     "output_type": "execute_result"
    }
   ],
   "source": [
    "# 一本文科最高分\n",
    "First_tier_universities_Arts_Max = First_tier_universities_Arts.max()\n",
    "First_tier_universities_Arts_Max"
   ]
  },
  {
   "cell_type": "code",
   "execution_count": 40,
   "metadata": {},
   "outputs": [
    {
     "data": {
      "text/plain": [
       "507"
      ]
     },
     "execution_count": 40,
     "metadata": {},
     "output_type": "execute_result"
    }
   ],
   "source": [
    "# 一本文科最低分\n",
    "First_tier_universities_Arts_Min = First_tier_universities_Arts.min()\n",
    "First_tier_universities_Arts_Min"
   ]
  },
  {
   "cell_type": "code",
   "execution_count": 41,
   "metadata": {},
   "outputs": [
    {
     "data": {
      "text/plain": [
       "73"
      ]
     },
     "execution_count": 41,
     "metadata": {},
     "output_type": "execute_result"
    }
   ],
   "source": [
    "# 相差分数\n",
    "First_tier_universities_Arts_differ = First_tier_universities_Arts_Max - First_tier_universities_Arts_Min\n",
    "First_tier_universities_Arts_differ"
   ]
  },
  {
   "cell_type": "code",
   "execution_count": 42,
   "metadata": {},
   "outputs": [
    {
     "data": {
      "text/plain": [
       "0     537\n",
       "1     507\n",
       "2     516\n",
       "3     481\n",
       "4     519\n",
       "5     515\n",
       "6     534\n",
       "7     493\n",
       "8     530\n",
       "9     570\n",
       "10    536\n",
       "11    547\n",
       "12    546\n",
       "13    572\n",
       "14    552\n",
       "Name: 一本理科, dtype: int64"
      ]
     },
     "execution_count": 42,
     "metadata": {},
     "output_type": "execute_result"
    }
   ],
   "source": [
    "First_tier_universities_Science = gradeline['一本理科']\n",
    "First_tier_universities_Science"
   ]
  },
  {
   "cell_type": "code",
   "execution_count": 43,
   "metadata": {},
   "outputs": [
    {
     "data": {
      "text/plain": [
       "572"
      ]
     },
     "execution_count": 43,
     "metadata": {},
     "output_type": "execute_result"
    }
   ],
   "source": [
    "# 一本理科的最高分数\n",
    "First_tier_universities_Science_Max = First_tier_universities_Science.max()\n",
    "First_tier_universities_Science_Max"
   ]
  },
  {
   "cell_type": "code",
   "execution_count": 44,
   "metadata": {},
   "outputs": [
    {
     "data": {
      "text/plain": [
       "481"
      ]
     },
     "execution_count": 44,
     "metadata": {},
     "output_type": "execute_result"
    }
   ],
   "source": [
    "# 一本理科科最低分\n",
    "First_tier_universities_Science_Min = First_tier_universities_Science.min()\n",
    "First_tier_universities_Science_Min"
   ]
  },
  {
   "cell_type": "code",
   "execution_count": 45,
   "metadata": {},
   "outputs": [
    {
     "data": {
      "text/plain": [
       "91"
      ]
     },
     "execution_count": 45,
     "metadata": {},
     "output_type": "execute_result"
    }
   ],
   "source": [
    "# 相差分数\n",
    "First_tier_universities_Science_differ = First_tier_universities_Science_Max - First_tier_universities_Science_Min\n",
    "First_tier_universities_Science_differ"
   ]
  },
  {
   "cell_type": "code",
   "execution_count": 46,
   "metadata": {},
   "outputs": [
    {
     "data": {
      "text/plain": [
       "0     469\n",
       "1     481\n",
       "2     476\n",
       "3     452\n",
       "4     460\n",
       "5     462\n",
       "6     478\n",
       "7     459\n",
       "8     492\n",
       "9     496\n",
       "10    492\n",
       "11    507\n",
       "12    510\n",
       "13    553\n",
       "14    528\n",
       "Name: 二本文科, dtype: int64"
      ]
     },
     "execution_count": 46,
     "metadata": {},
     "output_type": "execute_result"
    }
   ],
   "source": [
    "Second_tier_universities_Arts = gradeline['二本文科']\n",
    "Second_tier_universities_Arts"
   ]
  },
  {
   "cell_type": "code",
   "execution_count": 47,
   "metadata": {},
   "outputs": [
    {
     "data": {
      "text/plain": [
       "553"
      ]
     },
     "execution_count": 47,
     "metadata": {},
     "output_type": "execute_result"
    }
   ],
   "source": [
    "# 二本文科最高分\n",
    "Second_tier_universities_Arts_Max = Second_tier_universities_Arts.max()\n",
    "Second_tier_universities_Arts_Max"
   ]
  },
  {
   "cell_type": "code",
   "execution_count": 48,
   "metadata": {},
   "outputs": [
    {
     "data": {
      "text/plain": [
       "452"
      ]
     },
     "execution_count": 48,
     "metadata": {},
     "output_type": "execute_result"
    }
   ],
   "source": [
    "# 二本文科最低分\n",
    "Second_tier_universities_Arts_Min = Second_tier_universities_Arts.min()\n",
    "Second_tier_universities_Arts_Min"
   ]
  },
  {
   "cell_type": "code",
   "execution_count": 49,
   "metadata": {},
   "outputs": [
    {
     "data": {
      "text/plain": [
       "101"
      ]
     },
     "execution_count": 49,
     "metadata": {},
     "output_type": "execute_result"
    }
   ],
   "source": [
    "# 相差分数\n",
    "Second_tier_universities_Arts_differ = Second_tier_universities_Arts_Max - Second_tier_universities_Arts_Min\n",
    "Second_tier_universities_Arts_differ"
   ]
  },
  {
   "cell_type": "code",
   "execution_count": 50,
   "metadata": {},
   "outputs": [
    {
     "data": {
      "text/plain": [
       "0     449\n",
       "1     432\n",
       "2     432\n",
       "3     400\n",
       "4     438\n",
       "5     442\n",
       "6     462\n",
       "7     440\n",
       "8     476\n",
       "9     520\n",
       "10    491\n",
       "11    505\n",
       "12    511\n",
       "13    439\n",
       "14    515\n",
       "Name: 二本理科, dtype: int64"
      ]
     },
     "execution_count": 50,
     "metadata": {},
     "output_type": "execute_result"
    }
   ],
   "source": [
    "Second_tier_universities_Science = gradeline['二本理科']\n",
    "Second_tier_universities_Science"
   ]
  },
  {
   "cell_type": "code",
   "execution_count": 51,
   "metadata": {},
   "outputs": [
    {
     "data": {
      "text/plain": [
       "520"
      ]
     },
     "execution_count": 51,
     "metadata": {},
     "output_type": "execute_result"
    }
   ],
   "source": [
    "# 二本理科的最高分数\n",
    "Second_tier_universities_Science_Max = Second_tier_universities_Science.max()\n",
    "Second_tier_universities_Science_Max"
   ]
  },
  {
   "cell_type": "code",
   "execution_count": 52,
   "metadata": {},
   "outputs": [
    {
     "data": {
      "text/plain": [
       "400"
      ]
     },
     "execution_count": 52,
     "metadata": {},
     "output_type": "execute_result"
    }
   ],
   "source": [
    "# 二本理科的最低分数\n",
    "Second_tier_universities_Science_Min = Second_tier_universities_Science.min()\n",
    "Second_tier_universities_Science_Min"
   ]
  },
  {
   "cell_type": "code",
   "execution_count": 53,
   "metadata": {},
   "outputs": [
    {
     "data": {
      "text/plain": [
       "120"
      ]
     },
     "execution_count": 53,
     "metadata": {},
     "output_type": "execute_result"
    }
   ],
   "source": [
    "# 相差分数\n",
    "Second_tier_universities_Science_differ = Second_tier_universities_Science_Max - Second_tier_universities_Science_Min\n",
    "Second_tier_universities_Science_differ"
   ]
  },
  {
   "cell_type": "code",
   "execution_count": 67,
   "metadata": {},
   "outputs": [
    {
     "data": {
      "text/html": [
       "<div>\n",
       "<style scoped>\n",
       "    .dataframe tbody tr th:only-of-type {\n",
       "        vertical-align: middle;\n",
       "    }\n",
       "\n",
       "    .dataframe tbody tr th {\n",
       "        vertical-align: top;\n",
       "    }\n",
       "\n",
       "    .dataframe thead th {\n",
       "        text-align: right;\n",
       "    }\n",
       "</style>\n",
       "<table border=\"1\" class=\"dataframe\">\n",
       "  <thead>\n",
       "    <tr style=\"text-align: right;\">\n",
       "      <th></th>\n",
       "      <th>一本文科</th>\n",
       "      <th>一本理科</th>\n",
       "      <th>二本文科</th>\n",
       "      <th>二本理科</th>\n",
       "    </tr>\n",
       "  </thead>\n",
       "  <tbody>\n",
       "    <tr>\n",
       "      <th>最高分</th>\n",
       "      <td>580</td>\n",
       "      <td>572</td>\n",
       "      <td>553</td>\n",
       "      <td>520</td>\n",
       "    </tr>\n",
       "    <tr>\n",
       "      <th>最低分</th>\n",
       "      <td>507</td>\n",
       "      <td>481</td>\n",
       "      <td>452</td>\n",
       "      <td>400</td>\n",
       "    </tr>\n",
       "    <tr>\n",
       "      <th>相差</th>\n",
       "      <td>73</td>\n",
       "      <td>91</td>\n",
       "      <td>101</td>\n",
       "      <td>120</td>\n",
       "    </tr>\n",
       "  </tbody>\n",
       "</table>\n",
       "</div>"
      ],
      "text/plain": [
       "     一本文科  一本理科  二本文科  二本理科\n",
       "最高分   580   572   553   520\n",
       "最低分   507   481   452   400\n",
       "相差     73    91   101   120"
      ]
     },
     "execution_count": 67,
     "metadata": {},
     "output_type": "execute_result"
    }
   ],
   "source": [
    "# 结果\n",
    "dict = {'一本文科':[First_tier_universities_Arts_Max,First_tier_universities_Arts_Min,First_tier_universities_Arts_differ],\n",
    "       '一本理科':[First_tier_universities_Science_Max,First_tier_universities_Science_Min,First_tier_universities_Science_differ],\n",
    "       '二本文科':[Second_tier_universities_Arts_Max,Second_tier_universities_Arts_Min,Second_tier_universities_Arts_differ],\n",
    "       '二本理科':[Second_tier_universities_Science_Max,Second_tier_universities_Science_Min,Second_tier_universities_Science_differ]}\n",
    "res = pd.DataFrame(dict,index=['最高分','最低分','相差'])\n",
    "res"
   ]
  },
  {
   "cell_type": "markdown",
   "metadata": {},
   "source": [
    "# 2.今年与去年相比，一本文理科与二本文理科变化了多少分？"
   ]
  },
  {
   "cell_type": "code",
   "execution_count": 68,
   "metadata": {},
   "outputs": [
    {
     "data": {
      "text/html": [
       "<div>\n",
       "<style scoped>\n",
       "    .dataframe tbody tr th:only-of-type {\n",
       "        vertical-align: middle;\n",
       "    }\n",
       "\n",
       "    .dataframe tbody tr th {\n",
       "        vertical-align: top;\n",
       "    }\n",
       "\n",
       "    .dataframe thead th {\n",
       "        text-align: right;\n",
       "    }\n",
       "</style>\n",
       "<table border=\"1\" class=\"dataframe\">\n",
       "  <thead>\n",
       "    <tr style=\"text-align: right;\">\n",
       "      <th></th>\n",
       "      <th>年份</th>\n",
       "      <th>一本文科</th>\n",
       "      <th>一本理科</th>\n",
       "      <th>二本文科</th>\n",
       "      <th>二本理科</th>\n",
       "    </tr>\n",
       "  </thead>\n",
       "  <tbody>\n",
       "    <tr>\n",
       "      <th>0</th>\n",
       "      <td>2020</td>\n",
       "      <td>542</td>\n",
       "      <td>537</td>\n",
       "      <td>469</td>\n",
       "      <td>449</td>\n",
       "    </tr>\n",
       "    <tr>\n",
       "      <th>1</th>\n",
       "      <td>2019</td>\n",
       "      <td>542</td>\n",
       "      <td>507</td>\n",
       "      <td>481</td>\n",
       "      <td>432</td>\n",
       "    </tr>\n",
       "  </tbody>\n",
       "</table>\n",
       "</div>"
      ],
      "text/plain": [
       "     年份  一本文科  一本理科  二本文科  二本理科\n",
       "0  2020   542   537   469   449\n",
       "1  2019   542   507   481   432"
      ]
     },
     "execution_count": 68,
     "metadata": {},
     "output_type": "execute_result"
    }
   ],
   "source": [
    "twoyear = gradeline[:2]\n",
    "twoyear"
   ]
  },
  {
   "cell_type": "code",
   "execution_count": 69,
   "metadata": {},
   "outputs": [
    {
     "data": {
      "text/plain": [
       "0"
      ]
     },
     "execution_count": 69,
     "metadata": {},
     "output_type": "execute_result"
    }
   ],
   "source": [
    "# 一本文科的变化\n",
    "First_tier_universities_Arts_Change = twoyear['一本文科'][0] - twoyear['一本文科'][1]\n",
    "First_tier_universities_Arts_Change"
   ]
  },
  {
   "cell_type": "code",
   "execution_count": 70,
   "metadata": {},
   "outputs": [
    {
     "data": {
      "text/plain": [
       "30"
      ]
     },
     "execution_count": 70,
     "metadata": {},
     "output_type": "execute_result"
    }
   ],
   "source": [
    "# 一本理科的变化\n",
    "First_tier_universities_Science_Change = twoyear['一本理科'][0] - twoyear['一本理科'][1]\n",
    "First_tier_universities_Science_Change"
   ]
  },
  {
   "cell_type": "code",
   "execution_count": 71,
   "metadata": {},
   "outputs": [
    {
     "data": {
      "text/plain": [
       "-12"
      ]
     },
     "execution_count": 71,
     "metadata": {},
     "output_type": "execute_result"
    }
   ],
   "source": [
    "# 二本文科的变化\n",
    "Second_tier_universities_Arts_Change = twoyear['二本文科'][0] - twoyear['二本文科'][1]\n",
    "Second_tier_universities_Arts_Change"
   ]
  },
  {
   "cell_type": "code",
   "execution_count": 72,
   "metadata": {},
   "outputs": [
    {
     "data": {
      "text/plain": [
       "17"
      ]
     },
     "execution_count": 72,
     "metadata": {},
     "output_type": "execute_result"
    }
   ],
   "source": [
    "# 二本理科的变化\n",
    "Second_tier_universities_Science_Change = twoyear['二本理科'][0] - twoyear['二本理科'][1]\n",
    "Second_tier_universities_Science_Change"
   ]
  },
  {
   "cell_type": "code",
   "execution_count": 73,
   "metadata": {},
   "outputs": [
    {
     "data": {
      "text/html": [
       "<div>\n",
       "<style scoped>\n",
       "    .dataframe tbody tr th:only-of-type {\n",
       "        vertical-align: middle;\n",
       "    }\n",
       "\n",
       "    .dataframe tbody tr th {\n",
       "        vertical-align: top;\n",
       "    }\n",
       "\n",
       "    .dataframe thead th {\n",
       "        text-align: right;\n",
       "    }\n",
       "</style>\n",
       "<table border=\"1\" class=\"dataframe\">\n",
       "  <thead>\n",
       "    <tr style=\"text-align: right;\">\n",
       "      <th></th>\n",
       "      <th>一本文科</th>\n",
       "      <th>一本理科</th>\n",
       "      <th>二本文科</th>\n",
       "      <th>二本理科</th>\n",
       "    </tr>\n",
       "  </thead>\n",
       "  <tbody>\n",
       "    <tr>\n",
       "      <th>变化</th>\n",
       "      <td>0</td>\n",
       "      <td>30</td>\n",
       "      <td>-12</td>\n",
       "      <td>17</td>\n",
       "    </tr>\n",
       "  </tbody>\n",
       "</table>\n",
       "</div>"
      ],
      "text/plain": [
       "    一本文科  一本理科  二本文科  二本理科\n",
       "变化     0    30   -12    17"
      ]
     },
     "execution_count": 73,
     "metadata": {},
     "output_type": "execute_result"
    }
   ],
   "source": [
    "# 结果\n",
    "dict2 = {'一本文科':[First_tier_universities_Arts_Change],\n",
    "       '一本理科':[First_tier_universities_Science_Change],\n",
    "       '二本文科':[Second_tier_universities_Arts_Change],\n",
    "       '二本理科':[Second_tier_universities_Science_Change]}\n",
    "change = pd.DataFrame(dict2,index=['变化'])\n",
    "change"
   ]
  },
  {
   "cell_type": "markdown",
   "metadata": {},
   "source": [
    "# 3.求 2006——2020 年近 15 年每科分数线的平均值。"
   ]
  },
  {
   "cell_type": "code",
   "execution_count": 74,
   "metadata": {},
   "outputs": [
    {
     "data": {
      "text/plain": [
       "年份      2013.000000\n",
       "一本文科     537.400000\n",
       "一本理科     530.333333\n",
       "二本文科     487.666667\n",
       "二本理科     463.466667\n",
       "dtype: float64"
      ]
     },
     "execution_count": 74,
     "metadata": {},
     "output_type": "execute_result"
    }
   ],
   "source": [
    "gradeline.mean()"
   ]
  },
  {
   "cell_type": "code",
   "execution_count": 75,
   "metadata": {},
   "outputs": [
    {
     "data": {
      "text/plain": [
       "537.4"
      ]
     },
     "execution_count": 75,
     "metadata": {},
     "output_type": "execute_result"
    }
   ],
   "source": [
    "# 一本文科平均值\n",
    "First_tier_universities_Arts_Mean = gradeline['一本文科'].mean()\n",
    "First_tier_universities_Arts_Mean"
   ]
  },
  {
   "cell_type": "code",
   "execution_count": 79,
   "metadata": {},
   "outputs": [
    {
     "data": {
      "text/plain": [
       "530.3333333333334"
      ]
     },
     "execution_count": 79,
     "metadata": {},
     "output_type": "execute_result"
    }
   ],
   "source": [
    "# 一本理科平均值\n",
    "First_tier_universities_Science_Mean = gradeline['一本理科'].mean()\n",
    "First_tier_universities_Science_Mean"
   ]
  },
  {
   "cell_type": "code",
   "execution_count": 80,
   "metadata": {},
   "outputs": [
    {
     "data": {
      "text/plain": [
       "487.6666666666667"
      ]
     },
     "execution_count": 80,
     "metadata": {},
     "output_type": "execute_result"
    }
   ],
   "source": [
    "# 二本文科平均值\n",
    "Second_tier_universities_Arts_Mean = gradeline['二本文科'].mean()\n",
    "Second_tier_universities_Arts_Mean"
   ]
  },
  {
   "cell_type": "code",
   "execution_count": 81,
   "metadata": {},
   "outputs": [
    {
     "data": {
      "text/plain": [
       "487.6666666666667"
      ]
     },
     "execution_count": 81,
     "metadata": {},
     "output_type": "execute_result"
    }
   ],
   "source": [
    "# 二本理科平均值\n",
    "Second_tier_universities_Science_Mean = gradeline['二本文科'].mean()\n",
    "Second_tier_universities_Science_Mean"
   ]
  },
  {
   "cell_type": "code",
   "execution_count": 82,
   "metadata": {},
   "outputs": [
    {
     "data": {
      "text/html": [
       "<div>\n",
       "<style scoped>\n",
       "    .dataframe tbody tr th:only-of-type {\n",
       "        vertical-align: middle;\n",
       "    }\n",
       "\n",
       "    .dataframe tbody tr th {\n",
       "        vertical-align: top;\n",
       "    }\n",
       "\n",
       "    .dataframe thead th {\n",
       "        text-align: right;\n",
       "    }\n",
       "</style>\n",
       "<table border=\"1\" class=\"dataframe\">\n",
       "  <thead>\n",
       "    <tr style=\"text-align: right;\">\n",
       "      <th></th>\n",
       "      <th>一本文科</th>\n",
       "      <th>一本理科</th>\n",
       "      <th>二本文科</th>\n",
       "      <th>二本理科</th>\n",
       "    </tr>\n",
       "  </thead>\n",
       "  <tbody>\n",
       "    <tr>\n",
       "      <th>平均值</th>\n",
       "      <td>537.4</td>\n",
       "      <td>530.333333</td>\n",
       "      <td>487.666667</td>\n",
       "      <td>487.666667</td>\n",
       "    </tr>\n",
       "  </tbody>\n",
       "</table>\n",
       "</div>"
      ],
      "text/plain": [
       "      一本文科        一本理科        二本文科        二本理科\n",
       "平均值  537.4  530.333333  487.666667  487.666667"
      ]
     },
     "execution_count": 82,
     "metadata": {},
     "output_type": "execute_result"
    }
   ],
   "source": [
    "# 结果\n",
    "dict3 = {'一本文科':[First_tier_universities_Arts_Mean],\n",
    "       '一本理科':[First_tier_universities_Science_Mean],\n",
    "       '二本文科':[Second_tier_universities_Arts_Mean],\n",
    "       '二本理科':[Second_tier_universities_Science_Mean]}\n",
    "mean = pd.DataFrame(dict3,index=['平均值'])\n",
    "mean"
   ]
  },
  {
   "cell_type": "code",
   "execution_count": null,
   "metadata": {},
   "outputs": [],
   "source": []
  }
 ],
 "metadata": {
  "kernelspec": {
   "display_name": "Python 3",
   "language": "python",
   "name": "python3"
  },
  "language_info": {
   "codemirror_mode": {
    "name": "ipython",
    "version": 3
   },
   "file_extension": ".py",
   "mimetype": "text/x-python",
   "name": "python",
   "nbconvert_exporter": "python",
   "pygments_lexer": "ipython3",
   "version": "3.8.3"
  }
 },
 "nbformat": 4,
 "nbformat_minor": 4
}
